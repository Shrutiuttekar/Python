{
 "cells": [
  {
   "cell_type": "markdown",
   "id": "f1e6a7d2",
   "metadata": {},
   "source": [
    "## Basics of Python"
   ]
  },
  {
   "cell_type": "markdown",
   "id": "6ca62452",
   "metadata": {},
   "source": [
    "### Variables:"
   ]
  },
  {
   "cell_type": "code",
   "execution_count": 1,
   "id": "915fd00b",
   "metadata": {},
   "outputs": [
    {
     "name": "stdout",
     "output_type": "stream",
     "text": [
      "Addition of 5 and 4 is 9\n"
     ]
    }
   ],
   "source": [
    "num1=5\n",
    "num2=4\n",
    "add=num1+num2\n",
    "print(f\"Addition of {num1} and {num2} is {add}\")"
   ]
  },
  {
   "cell_type": "markdown",
   "id": "a4061b1d",
   "metadata": {},
   "source": [
    "## How do you declare a variable?"
   ]
  },
  {
   "cell_type": "code",
   "execution_count": 2,
   "id": "97fc3cef",
   "metadata": {},
   "outputs": [
    {
     "name": "stdout",
     "output_type": "stream",
     "text": [
      "You entered the name as Shruti\n",
      "You entered the number as 9\n",
      "<class 'str'>\n",
      "<class 'int'>\n"
     ]
    }
   ],
   "source": [
    "name=\"Shruti\"\n",
    "num=9\n",
    "print(f\"You entered the name as {name}\")\n",
    "print(f\"You entered the number as {num}\")\n",
    "print(type(name))\n",
    "print(type(num))"
   ]
  },
  {
   "cell_type": "markdown",
   "id": "284859d4",
   "metadata": {},
   "source": [
    "## Rules for naming the variables in Python:"
   ]
  },
  {
   "cell_type": "markdown",
   "id": "8c62659c",
   "metadata": {},
   "source": [
    "* **Valid Characters:** Variable names can only contain letters (both uppercase and lowercase), numbers, and underscores. Special characters, spaces, or punctuation marks are not allowed.\n",
    "\n",
    "* **Start with a Letter or Underscore:** A variable name must begin with a letter (a-z, A-Z) or an underscore (_). It cannot start with a number.\n",
    "\n",
    "* **Case-Sensitive:** Python is case-sensitive, so my_variable and My_Variable would be considered different variables.\n",
    "\n",
    "* **Reserved Words:** Avoid using Python reserved words as variable names. Examples include if, else, while, for, import, and others.\n",
    "\n",
    "* **Descriptive and Meaningful:** Choose variable names that are descriptive and convey the purpose of the variable for better code readability.\n",
    "\n",
    "* **Avoid Single Underscore as the First Character:** While technically allowed, using a single underscore as the first character in a variable name is often reserved for special cases (e.g., _variable). It's not recommended for regular variable names."
   ]
  },
  {
   "cell_type": "code",
   "execution_count": 3,
   "id": "8251bc7d",
   "metadata": {},
   "outputs": [
    {
     "ename": "SyntaxError",
     "evalue": "invalid syntax (570795143.py, line 9)",
     "output_type": "error",
     "traceback": [
      "\u001b[1;36m  Cell \u001b[1;32mIn[3], line 9\u001b[1;36m\u001b[0m\n\u001b[1;33m    my name=\"Shruti\"\u001b[0m\n\u001b[1;37m       ^\u001b[0m\n\u001b[1;31mSyntaxError\u001b[0m\u001b[1;31m:\u001b[0m invalid syntax\n"
     ]
    }
   ],
   "source": [
    "#Correct variables names:\n",
    "num=5\n",
    "my_name=\"Shruti\"\n",
    "num1=4\n",
    "result=num+num1\n",
    "\n",
    "#Incorrect variable names:\n",
    "Num=5\n",
    "my name=\"Shruti\"\n",
    "num 1=4\n",
    "result=num+ num-1\n"
   ]
  },
  {
   "cell_type": "markdown",
   "id": "d68d5a68",
   "metadata": {},
   "source": [
    "## What is the purpose of id() function in Python?"
   ]
  },
  {
   "cell_type": "code",
   "execution_count": null,
   "id": "ecadcbab",
   "metadata": {},
   "outputs": [],
   "source": [
    "*list id() is the unique identifier which is used to identify an object\n",
    "*it returns the address of that particular object which is been stored into the memory"
   ]
  },
  {
   "cell_type": "code",
   "execution_count": 48,
   "id": "8800702e",
   "metadata": {},
   "outputs": [
    {
     "name": "stdout",
     "output_type": "stream",
     "text": [
      "The list id is 2631672510848\n"
     ]
    }
   ],
   "source": [
    "my_list=[1,2,3]\n",
    "list_id=id(my_list)\n",
    "print(f\"The list id is {list_id}\")"
   ]
  },
  {
   "cell_type": "markdown",
   "id": "5862327e",
   "metadata": {},
   "source": [
    "## Differentiate between local variables and global variables?"
   ]
  },
  {
   "cell_type": "markdown",
   "id": "dbe6d1d6",
   "metadata": {},
   "source": [
    "* It is accessible only within the scope of that function.\n",
    "* Once the function execution is complete, the local variable is destroyed, and attempting to access it outside the function would result in an error."
   ]
  },
  {
   "cell_type": "code",
   "execution_count": 47,
   "id": "bbdc8204",
   "metadata": {},
   "outputs": [
    {
     "name": "stdout",
     "output_type": "stream",
     "text": [
      "The car name plate number is 1969\n"
     ]
    }
   ],
   "source": [
    "def driving():\n",
    "    car=1969\n",
    "    print(f\"The car name plate number is {car}\")\n",
    "driving()"
   ]
  },
  {
   "cell_type": "markdown",
   "id": "99d00b52",
   "metadata": {},
   "source": [
    "*global_variable is defined outside any function or block, making it a global variable.\n",
    "*It is accessible throughout the entire program, both within and outside functions. The value of the global variable persists for the entire duration of the program."
   ]
  },
  {
   "cell_type": "code",
   "execution_count": 46,
   "id": "e7d31e6f",
   "metadata": {},
   "outputs": [
    {
     "name": "stdout",
     "output_type": "stream",
     "text": [
      "Roll number of Shruti is 9\n"
     ]
    }
   ],
   "source": [
    "name=\"Shruti\"   #global variable\n",
    "def form():\n",
    "    rollno=9    #local variable\n",
    "    print(f\"Roll number of {name} is {rollno}\")\n",
    "form()"
   ]
  },
  {
   "cell_type": "markdown",
   "id": "f86ceed8",
   "metadata": {},
   "source": [
    "## Concept of Variable Scope"
   ]
  },
  {
   "cell_type": "markdown",
   "id": "e57570dc",
   "metadata": {},
   "source": [
    "**Variable scope** in Python refers to the region of the code where a variable is accessible or can be modified. In Python, there are two main types of variable scope: local and global.\n",
    "\n",
    "\n",
    "**Local scope** refers to the portion of code where a variable is declared within a function or block. Local variables are only accessible within that specific function or block and are not visible outside of it.\n",
    "\n",
    "**Global scope** refers to the portion of code where a variable is declared outside of any function or block. Global variables are accessible from any part of the code, both inside and outside functions."
   ]
  },
  {
   "cell_type": "code",
   "execution_count": 45,
   "id": "bfcd9751",
   "metadata": {},
   "outputs": [
    {
     "name": "stdout",
     "output_type": "stream",
     "text": [
      "In Room number 3 whose class teacher is Arjit Sir have strength of 65 students where 45 are present and 20 are absent\n"
     ]
    }
   ],
   "source": [
    "guide=\"Arjit Sir\"  #global variable\n",
    "def mcaB():\n",
    "    strength=65   #local variable\n",
    "    present=45    #local variable\n",
    "    absent=strength-present\n",
    "    print(f\"In Room number 3 whose class teacher is {guide} have strength of {strength} students where {present} are present and {absent} are absent\")\n",
    "mcaB()\n",
    "    \n",
    "    "
   ]
  },
  {
   "cell_type": "markdown",
   "id": "296069a4",
   "metadata": {},
   "source": [
    "## Built-in types of variables in Python"
   ]
  },
  {
   "cell_type": "markdown",
   "id": "f8dc466d",
   "metadata": {},
   "source": [
    "**int**: Integer type, representing whole numbers.\n",
    "\n",
    "**float**: Floating-point type, representing decimal numbers.\n",
    "\n",
    "**str**: String type, representing text.\n",
    "\n",
    "**bool**: Boolean type, representing True or False values.\n",
    "\n",
    "**list**: List type, representing ordered, mutable sequences of elements.\n",
    "\n",
    "**tuple**: Tuple type, representing ordered, immutable sequences of elements.\n",
    "\n",
    "**set**: Set type, representing an unordered collection of unique elements.\n",
    "\n",
    "**dict**: Dictionary type, representing a collection of key-value pairs."
   ]
  },
  {
   "cell_type": "code",
   "execution_count": 8,
   "id": "50e9c354",
   "metadata": {},
   "outputs": [
    {
     "name": "stdout",
     "output_type": "stream",
     "text": [
      "Integer is 9\n",
      "Floating number is 9.5\n",
      "String is Hello\n",
      "Boolean number is True\n",
      "List is [1, 2, 3]\n",
      "Tuple is ('Shruti', 9, 'Pune')\n",
      "Set is {1, 2, 10, 20}\n",
      "Dictionary is {'Pimpri': 411017, 'Maharashtra': 36}\n"
     ]
    }
   ],
   "source": [
    "num1=9\n",
    "num2=9.5\n",
    "num3=\"Hello\"\n",
    "num4=True\n",
    "num5=[1,2,3]\n",
    "num6=(\"Shruti\",9,\"Pune\")\n",
    "num7={1,2,10,20}\n",
    "num8={\"Pimpri\":411017,\"Maharashtra\":36}\n",
    "\n",
    "print(\"Integer is\",num1)\n",
    "print(\"Floating number is\",num2)\n",
    "print(\"String is\",num3)\n",
    "print(\"Boolean number is\",num4)\n",
    "print(\"List is\",num5)\n",
    "print(\"Tuple is\",num6)\n",
    "print(\"Set is\",num7)\n",
    "print(\"Dictionary is\",num8)\n"
   ]
  },
  {
   "cell_type": "markdown",
   "id": "bed111e7",
   "metadata": {},
   "source": [
    "## Swapping values of variables in python without using \"temp\" variable"
   ]
  },
  {
   "cell_type": "code",
   "execution_count": 44,
   "id": "b2a4c6f9",
   "metadata": {},
   "outputs": [
    {
     "name": "stdout",
     "output_type": "stream",
     "text": [
      "After swapping the value of x is 10 and the value of y is 5\n"
     ]
    }
   ],
   "source": [
    "def swap(a,b):\n",
    "    a=a+b\n",
    "    b=a-b\n",
    "    a=a-b\n",
    "    return a,b\n",
    "x=5\n",
    "y=10\n",
    "x,y=swap(x,y)\n",
    "print(f\"After swapping the value of x is {x} and the value of y is {y}\")\n",
    "    "
   ]
  },
  {
   "cell_type": "code",
   "execution_count": 14,
   "id": "78a0e817",
   "metadata": {},
   "outputs": [
    {
     "name": "stdout",
     "output_type": "stream",
     "text": [
      "After swapping the value of x is 4 and y is 5\n"
     ]
    }
   ],
   "source": [
    "def swap(a,b):\n",
    "    a,b=b,a\n",
    "    return a,b\n",
    "x=5\n",
    "y=4\n",
    "x,y=swap(x,y)\n",
    "print(f\"After swapping the value of x is {x} and y is {y}\")\n"
   ]
  },
  {
   "cell_type": "markdown",
   "id": "919a6e6f",
   "metadata": {},
   "source": [
    "## What is the difference between \"=\" and \"is\" while comparing variables?"
   ]
  },
  {
   "cell_type": "markdown",
   "id": "6051c844",
   "metadata": {},
   "source": [
    "**==** checks for equality of values, while **is** checks for identity that is if the variables refer to the same object in memory.\n",
    "\n"
   ]
  },
  {
   "cell_type": "code",
   "execution_count": 17,
   "id": "74a2d701",
   "metadata": {},
   "outputs": [
    {
     "name": "stdout",
     "output_type": "stream",
     "text": [
      "True\n",
      "True\n",
      "False\n",
      "False\n"
     ]
    }
   ],
   "source": [
    "a=[1,2,3]\n",
    "b=[1,2,3]\n",
    "c=a\n",
    "\n",
    "#By using == operator\n",
    "print(a==b)\n",
    "print(a==c)\n",
    "\n",
    "#By using is operator\n",
    "print(a is b) # because it do not have the same location in the memory\n",
    "print(b is c)\n",
    "\n",
    "\n"
   ]
  },
  {
   "cell_type": "markdown",
   "id": "789c83e4",
   "metadata": {},
   "source": [
    "## 'del' statement in python with respect to variables"
   ]
  },
  {
   "cell_type": "markdown",
   "id": "67fed1df",
   "metadata": {},
   "source": [
    " *the del statement is used to delete variables or items from a collection (such as lists or dictionaries)"
   ]
  },
  {
   "cell_type": "code",
   "execution_count": 22,
   "id": "93c76663",
   "metadata": {},
   "outputs": [
    {
     "name": "stdout",
     "output_type": "stream",
     "text": [
      "Before deletion the value of x is 54 and the value of y is [1, 2, 3, 4, 5]\n",
      "After deletion the value of y is [1, 2, 3, 5]\n"
     ]
    }
   ],
   "source": [
    "x=54\n",
    "y=[1,2,3,4,5]\n",
    "\n",
    "print(f\"Before deletion the value of x is {x} and the value of y is {y}\")\n",
    "\n",
    "del x\n",
    "del y[3]\n",
    "\n",
    "#print(\"After deletion the value of x is\",x)# it should show an error\n",
    "print(\"After deletion the value of y is\",y)\n"
   ]
  },
  {
   "cell_type": "markdown",
   "id": "c7e26c96",
   "metadata": {},
   "source": [
    "## Dynamic typing in Python"
   ]
  },
  {
   "cell_type": "markdown",
   "id": "1cd816cc",
   "metadata": {},
   "source": [
    "* Dynamic typing is the concept where the type of variable is determined at runtime rather than compile time\n",
    "* You can assign the value of different type to the same variable"
   ]
  },
  {
   "cell_type": "code",
   "execution_count": 23,
   "id": "c7701838",
   "metadata": {},
   "outputs": [
    {
     "name": "stdout",
     "output_type": "stream",
     "text": [
      "The variable is Integer 9\n",
      "The variable is floating point number 5.4\n",
      "The variable is String Shruti\n",
      "The variable is Boolean True\n"
     ]
    }
   ],
   "source": [
    "variable=9\n",
    "print(\"The variable is Integer\",variable)\n",
    "\n",
    "variable=5.4\n",
    "print(\"The variable is floating point number\",variable)\n",
    "\n",
    "variable=\"Shruti\"\n",
    "print(\"The variable is String\",variable)\n",
    "\n",
    "variable=True\n",
    "print(\"The variable is Boolean\",variable)"
   ]
  },
  {
   "cell_type": "markdown",
   "id": "570bba52",
   "metadata": {},
   "source": [
    "## Concatenating two strings in python using variable"
   ]
  },
  {
   "cell_type": "markdown",
   "id": "13f3e495",
   "metadata": {},
   "source": [
    "*There are two ways for concatenating two strings in python :*\n",
    "1. By using + operator\n",
    "2. By using += operator"
   ]
  },
  {
   "cell_type": "code",
   "execution_count": 31,
   "id": "20dcc132",
   "metadata": {},
   "outputs": [
    {
     "name": "stdout",
     "output_type": "stream",
     "text": [
      "Full name is Shruti Santosh Uttekar\n",
      "My favourite childhood cartoon was Tom&Jerry\n"
     ]
    }
   ],
   "source": [
    "# By using + operator\n",
    "first_name=\"Shruti\"\n",
    "middle_name=\"Santosh\"\n",
    "last_name=\"Uttekar\"\n",
    "full_name=first_name+\" \"+middle_name+\" \"+last_name\n",
    "print(f\"Full name is {full_name}\")\n",
    "\n",
    "#By using += operator\n",
    "a=\"Tom&\"\n",
    "b=\"Jerry\"\n",
    "a+=b\n",
    "print(\"My favourite childhood cartoon was\",a)"
   ]
  },
  {
   "cell_type": "markdown",
   "id": "8d2d6611",
   "metadata": {},
   "source": [
    "## Difference between 'mutable' and 'immutable'"
   ]
  },
  {
   "cell_type": "markdown",
   "id": "2a2f6787",
   "metadata": {},
   "source": [
    "**mutable** means changable and\n",
    "**immutable** means unchangable\n",
    "\n",
    "**Mutable Objects:** Objects whose state or value can be changed after creation are considered mutable. Examples include lists and dictionaries.*\n",
    "\n",
    "**Immutable Objects:** Objects whose state cannot be changed after creation are considered immutable. Examples include strings and tuples.*"
   ]
  },
  {
   "cell_type": "code",
   "execution_count": 32,
   "id": "5afacb9c",
   "metadata": {},
   "outputs": [
    {
     "name": "stdout",
     "output_type": "stream",
     "text": [
      "Before adding [1, 2, 3, 4, 5]\n",
      "After adding [0, 2, 3, 4, 5]\n"
     ]
    }
   ],
   "source": [
    "my_list=[1,2,3,4,5]\n",
    "print(\"Before adding\",my_list)\n",
    "\n",
    "my_list[0]=0\n",
    "print(\"After adding\",my_list)"
   ]
  },
  {
   "cell_type": "code",
   "execution_count": 38,
   "id": "3baa8033",
   "metadata": {},
   "outputs": [
    {
     "name": "stdout",
     "output_type": "stream",
     "text": [
      "Original Tuple (1, 2, 3, 4, 5)\n"
     ]
    }
   ],
   "source": [
    "my_tuple=(1,2,3,4,5)\n",
    "print(\"Original Tuple\",my_tuple)\n",
    "\n",
    "#my_tuple[0]=99\n",
    "#print(\"After modifying\",my_tuple)#it will show an error\n"
   ]
  },
  {
   "cell_type": "code",
   "execution_count": 37,
   "id": "9ba91017",
   "metadata": {},
   "outputs": [
    {
     "name": "stdout",
     "output_type": "stream",
     "text": [
      "Original Spelling Shruti\n"
     ]
    }
   ],
   "source": [
    "name=\"Shruti\"\n",
    "print(\"Original Spelling\",name)\n",
    "\n",
    "#name[6]=\"i\"\n",
    "#print(\"Modifyed spelling\",name)# it will show an error\n"
   ]
  },
  {
   "cell_type": "markdown",
   "id": "4c5bf031",
   "metadata": {},
   "source": [
    "## 'global'  variable in Python"
   ]
  },
  {
   "cell_type": "markdown",
   "id": "5bb79eba",
   "metadata": {},
   "source": [
    "* The global keyword is used to indicate that a variable declared within a function should be treated as a global variable.\n",
    "* It allows you to modify the value of a variable defined outside the current function scope."
   ]
  },
  {
   "cell_type": "code",
   "execution_count": 42,
   "id": "6b939c36",
   "metadata": {},
   "outputs": [
    {
     "name": "stdout",
     "output_type": "stream",
     "text": [
      "The value of global variable is now 9\n"
     ]
    }
   ],
   "source": [
    "num1=10\n",
    "def change():\n",
    "    global num1\n",
    "    num1=9\n",
    "change()\n",
    "print(\"The value of global variable is now\",num1)"
   ]
  },
  {
   "cell_type": "markdown",
   "id": "dd822d59",
   "metadata": {},
   "source": [
    "## What is the purpose of  locals() and globals() variable in Python?"
   ]
  },
  {
   "cell_type": "markdown",
   "id": "61768d64",
   "metadata": {},
   "source": [
    "* The locals() function is used to access the local variable value whereas the globals() function is used to access the global variable value\n",
    "* It returns the result in key-value pair format that is dictionary"
   ]
  },
  {
   "cell_type": "code",
   "execution_count": 49,
   "id": "cd316e68",
   "metadata": {},
   "outputs": [
    {
     "name": "stdout",
     "output_type": "stream",
     "text": [
      "I am printing the value of local variable by using locals function {'num2': 20}\n",
      "I am printing the value of global variable by using globals function {'__name__': '__main__', '__doc__': 'Automatically created module for IPython interactive environment', '__package__': None, '__loader__': None, '__spec__': None, '__builtin__': <module 'builtins' (built-in)>, '__builtins__': <module 'builtins' (built-in)>, '_ih': ['', 'num1=5\\nnum2=4\\nadd=num1+num2\\nprint(f\"Addition of {num1} and {num2} is {add}\")', 'name=\"Shruti\"\\nnum=9\\nprint(f\"You entered the name as {name}\")\\nprint(f\"You entered the number as {num}\")\\nprint(type(name))\\nprint(type(num))', '#Correct variables names:\\nnum=5\\nmy_name=\"Shruti\"\\nnum1=4\\nresult=num+num1\\n\\n#Incorrect variable names:\\nNum=5\\nmy name=\"Shruti\"\\nnum 1=4\\nresult=num+ num-1', 'def driving():\\n    car=1969\\n    print(f\"The car name plate number is {car}\")\\n    driving()', 'def driving():\\n    car=1969\\n    print(f\"The car name plate number is {car}\")\\n    driving()', 'name=\"Shruti\"   #global variable\\ndef form():\\n    rollno=9    #local variable\\n    print(f\"Roll number of {name} is {rollno}\")\\n    form()', 'guide=\"Arjit Sir\"  #global variable\\ndef mcaB():\\n    strength=65   #local variable\\n    present=45    #local variable\\n    absent=strength-present\\n    print(f\"In Room number 3 whose class teacher is {guide} have strength of {strength} students where {present} are present and {absent} are absent\")\\n    \\n    mcaB()\\n    \\n    ', 'num1=9\\nnum2=9.5\\nnum3=\"Hello\"\\nnum4=True\\nnum5=[1,2,3]\\nnum6=(\"Shruti\",9,\"Pune\")\\nnum7={1,2,10,20}\\nnum8={\"Pimpri\":411017,\"Maharashtra\":36}\\n\\nprint(\"Integer is\",num1)\\nprint(\"Floating number is\",num2)\\nprint(\"String is\",num3)\\nprint(\"Boolean number is\",num4)\\nprint(\"List is\",num5)\\nprint(\"Tuple is\",num6)\\nprint(\"Set is\",num7)\\nprint(\"Dictionary is\",num8)', 'guide=\"Arjit Sir\"  #global variable\\ndef mcaB():\\n    strength=65   #local variable\\n    present=45    #local variable\\n    absent=strength-present\\n    print(f\"In Room number 3 whose class teacher is {guide} have strength of {strength} students where {present} are present and {absent} are absent\")\\n    \\n    mcaB()\\n    \\n    ', 'def swap(a,b):\\n    a=a+b\\n    b=a-b\\n    a=a-b\\n    \\n    x=5\\n    y=10\\n    \\n    swap(x,y)\\n    print(f\"After swapping the value of x is {x} and the value of y is {y}\")\\n    ', 'def swap(a,b):\\n    a=a+b\\n    b=a-b\\n    a=a-b\\n    \\n    x=5\\n    y=10\\n    \\n    swap(x,y)\\n    print(f\"After swapping the value of x is {x} and the value of y is {y}\")\\n    ', 'def swap(a,b):\\n    a=a+b\\n    b=a-b\\n    a=a-b\\n    \\n    x=5\\n    y=10\\n    \\n    x,y=swap(x,y)\\n    print(f\"After swapping the value of x is {x} and the value of y is {y}\")\\n    ', 'def swap(a,b):\\n    a,b=b,a\\n    return a,b\\n\\nx=5\\ny=4\\n\\nx,y=swap(x,y)\\n print(f\"After swapping the value of x is {x} and y is {y}\")', 'def swap(a,b):\\n    a,b=b,a\\n    return a,b\\nx=5\\ny=4\\nx,y=swap(x,y)\\nprint(f\"After swapping the value of x is {x} and y is {y}\")', 'def swap(a,b):\\n    a=a+b\\n    b=a-b\\n    a=a-b\\n    \\n    x=5\\n    y=10\\n    \\n    x,y=swap(x,y)\\n    print(f\"After swapping the value of x is {x} and the value of y is {y}\")\\n    ', 'def swap(a,b):\\n    a=a+b\\n    b=a-b\\n    a=a-b\\n    x=5\\n    y=10\\n    x,y=swap(x,y)\\n    print(f\"After swapping the value of x is {x} and the value of y is {y}\")\\n    ', 'a=[1,2,3]\\nb=[1,2,3]\\nc=a\\n\\n#By using == operator\\nprint(a==b)\\nprint(a==c)\\n\\n#By using is operator\\nprint(a is b)\\nprint(b is c)', '*the del statement is used to delete variables or items from a collection (such as lists or dictionaries)', 'x=54\\ny=[1,2,3,4,5]\\n\\nprint(f\"Before deletion the value of x is {x} and the value of y is {y}\")\\n\\ndel x\\ndel[3]\\n\\nprint(\"After deletion the value of x is\",x)# it should show an error\\nprint(\"After deletion the value of y is\",y)', 'x=54\\ny=[1,2,3,4,5]\\n\\nprint(f\"Before deletion the value of x is {x} and the value of y is {y}\")\\n\\ndel x\\ndel [3]\\n\\nprint(\"After deletion the value of x is\",x)# it should show an error\\nprint(\"After deletion the value of y is\",y)', 'x=54\\ny=[1,2,3,4,5]\\n\\nprint(f\"Before deletion the value of x is {x} and the value of y is {y}\")\\n\\ndel x\\ndel y[3]\\n\\nprint(\"After deletion the value of x is\",x)# it should show an error\\nprint(\"After deletion the value of y is\",y)', 'x=54\\ny=[1,2,3,4,5]\\n\\nprint(f\"Before deletion the value of x is {x} and the value of y is {y}\")\\n\\ndel x\\ndel y[3]\\n\\n#print(\"After deletion the value of x is\",x)# it should show an error\\nprint(\"After deletion the value of y is\",y)', 'variable=9\\nprint(\"The variable is Integer\",variable)\\n\\nvariable=5.4\\nprint(\"The variable is floating point number\",variable)\\n\\nvariable=\"Shruti\"\\nprint(\"The variable is String\",variable)\\n\\nvariable=True\\nprint(\"The variable is Boolean\",variable)', '*There are two ways for concatenating two strings in python :', 'first_name=\"Shruti\"\\nmiddle_name=\"Santosh\"\\nlast_name=\"Uttekar\"\\n\\nfull_name=first_name+middle_name+last_name', 'first_name=\"Shruti\"\\nmiddle_name=\"Santosh\"\\nlast_name=\"Uttekar\"\\n\\nfull_name=first_name+\" \"+middle_name+\" \"+last_name', 'first_name=\"Shruti\"\\nmiddle_name=\"Santosh\"\\nlast_name=\"Uttekar\"\\nfull_name=first_name+\" \"+middle_name+\" \"+last_name', 'first_name=\"Shruti\"\\nmiddle_name=\"Santosh\"\\nlast_name=\"Uttekar\"\\nfull_name=first_name+\" \"+middle_name+\" \"+last_name\\nprint(f\"Full name is{full_name}\")', 'first_name=\"Shruti\"\\nmiddle_name=\"Santosh\"\\nlast_name=\"Uttekar\"\\nfull_name=first_name+\" \"+middle_name+\" \"+last_name\\nprint(f\"Full name is {full_name}\")', '# By using + operator\\nfirst_name=\"Shruti\"\\nmiddle_name=\"Santosh\"\\nlast_name=\"Uttekar\"\\nfull_name=first_name+\" \"+middle_name+\" \"+last_name\\nprint(f\"Full name is {full_name}\")\\n\\n#By using += operator\\na=\"Tom\"\\nb=\"Jerry\"\\na+=b\\nprint(\"My favourite childhood cartoon was\",a)', '# By using + operator\\nfirst_name=\"Shruti\"\\nmiddle_name=\"Santosh\"\\nlast_name=\"Uttekar\"\\nfull_name=first_name+\" \"+middle_name+\" \"+last_name\\nprint(f\"Full name is {full_name}\")\\n\\n#By using += operator\\na=\"Tom&\"\\nb=\"Jerry\"\\na+=b\\nprint(\"My favourite childhood cartoon was\",a)', 'my_list=[1,2,3,4,5]\\nprint(\"Before adding\",my_list)\\n\\nmy_list[0]=0\\nprint(\"After adding\",my_list)', 'my_tuple=(1,2,3,4,5)\\nprint(\"Original Tuple\",my_tuple)\\n\\nmy_tuple[0]=99\\nprint(\"After modifying\",my_tuple)#it will show an error', 'my_tuple=(1,2,3,4,5)\\nprint(\"Original Tuple\",my_tuple)\\n\\nmy_tuple[0]=99\\nprint(\"After modifying\",my_tuple)#it will show an error\\n\\n\\nname=\"Shruti\"\\nprint(\"Original Spelling\",name)\\n\\nname[6]=\"i\"\\nprint(\"Modifyed spelling\",name)', 'my_tuple=(1,2,3,4,5)\\nprint(\"Original Tuple\",my_tuple)\\n\\nmy_tuple[0]=99\\nprint(\"After modifying\",my_tuple)#it will show an error', 'name=\"Shruti\"\\nprint(\"Original Spelling\",name)\\n\\nname[6]=\"i\"\\nprint(\"Modifyed spelling\",name)', 'name=\"Shruti\"\\nprint(\"Original Spelling\",name)\\n\\n#name[6]=\"i\"\\n#print(\"Modifyed spelling\",name)# it will show an error', 'my_tuple=(1,2,3,4,5)\\nprint(\"Original Tuple\",my_tuple)\\n\\n#my_tuple[0]=99\\n#print(\"After modifying\",my_tuple)#it will show an error', 'n Python, the global keyword is used to indicate that a variable declared within a function should be treated as a global variable. It allows you to modify the value of a variable defined outside the current function scope.', 'num1=10\\ndef change():\\n    global num1\\n    num1=9\\n    change()\\n    \\n    print(\"The value of global variable is now\",num1)', 'num1=10\\ndef change():\\n    global num1\\n    num1=9\\nchange()\\n    \\n    print(\"The value of global variable is now\",num1)', 'num1=10\\ndef change():\\n    global num1\\n    num1=9\\nchange()\\nprint(\"The value of global variable is now\",num1)', 'def swap(a,b):\\n    a=a+b\\n    b=a-b\\n    a=a-b\\n    x=5\\n    y=10\\nx,y=swap(x,y)\\nprint(f\"After swapping the value of x is {x} and the value of y is {y}\")\\n    ', 'def swap(a,b):\\n    a=a+b\\n    b=a-b\\n    a=a-b\\n    return a,b\\nx=5\\ny=10\\nx,y=swap(x,y)\\nprint(f\"After swapping the value of x is {x} and the value of y is {y}\")\\n    ', 'guide=\"Arjit Sir\"  #global variable\\ndef mcaB():\\n    strength=65   #local variable\\n    present=45    #local variable\\n    absent=strength-present\\n    print(f\"In Room number 3 whose class teacher is {guide} have strength of {strength} students where {present} are present and {absent} are absent\")\\nmcaB()\\n    \\n    ', 'name=\"Shruti\"   #global variable\\ndef form():\\n    rollno=9    #local variable\\n    print(f\"Roll number of {name} is {rollno}\")\\nform()', 'def driving():\\n    car=1969\\n    print(f\"The car name plate number is {car}\")\\ndriving()', 'my_list=[1,2,3]\\nlist_id=id(my_list)\\nprint(f\"The list id is {list_id}\")', 'num1=10 #global variable\\ndef demo():\\n    num2=20\\n    print(\"I am printing the value of local variable by using locals function\",locals())\\n    \\ndemo()\\nprint(\"I am printing the value of global variable by using globals function\",globals())\\n\\n    '], '_oh': {}, '_dh': [WindowsPath('C:/Users/HP')], 'In': ['', 'num1=5\\nnum2=4\\nadd=num1+num2\\nprint(f\"Addition of {num1} and {num2} is {add}\")', 'name=\"Shruti\"\\nnum=9\\nprint(f\"You entered the name as {name}\")\\nprint(f\"You entered the number as {num}\")\\nprint(type(name))\\nprint(type(num))', '#Correct variables names:\\nnum=5\\nmy_name=\"Shruti\"\\nnum1=4\\nresult=num+num1\\n\\n#Incorrect variable names:\\nNum=5\\nmy name=\"Shruti\"\\nnum 1=4\\nresult=num+ num-1', 'def driving():\\n    car=1969\\n    print(f\"The car name plate number is {car}\")\\n    driving()', 'def driving():\\n    car=1969\\n    print(f\"The car name plate number is {car}\")\\n    driving()', 'name=\"Shruti\"   #global variable\\ndef form():\\n    rollno=9    #local variable\\n    print(f\"Roll number of {name} is {rollno}\")\\n    form()', 'guide=\"Arjit Sir\"  #global variable\\ndef mcaB():\\n    strength=65   #local variable\\n    present=45    #local variable\\n    absent=strength-present\\n    print(f\"In Room number 3 whose class teacher is {guide} have strength of {strength} students where {present} are present and {absent} are absent\")\\n    \\n    mcaB()\\n    \\n    ', 'num1=9\\nnum2=9.5\\nnum3=\"Hello\"\\nnum4=True\\nnum5=[1,2,3]\\nnum6=(\"Shruti\",9,\"Pune\")\\nnum7={1,2,10,20}\\nnum8={\"Pimpri\":411017,\"Maharashtra\":36}\\n\\nprint(\"Integer is\",num1)\\nprint(\"Floating number is\",num2)\\nprint(\"String is\",num3)\\nprint(\"Boolean number is\",num4)\\nprint(\"List is\",num5)\\nprint(\"Tuple is\",num6)\\nprint(\"Set is\",num7)\\nprint(\"Dictionary is\",num8)', 'guide=\"Arjit Sir\"  #global variable\\ndef mcaB():\\n    strength=65   #local variable\\n    present=45    #local variable\\n    absent=strength-present\\n    print(f\"In Room number 3 whose class teacher is {guide} have strength of {strength} students where {present} are present and {absent} are absent\")\\n    \\n    mcaB()\\n    \\n    ', 'def swap(a,b):\\n    a=a+b\\n    b=a-b\\n    a=a-b\\n    \\n    x=5\\n    y=10\\n    \\n    swap(x,y)\\n    print(f\"After swapping the value of x is {x} and the value of y is {y}\")\\n    ', 'def swap(a,b):\\n    a=a+b\\n    b=a-b\\n    a=a-b\\n    \\n    x=5\\n    y=10\\n    \\n    swap(x,y)\\n    print(f\"After swapping the value of x is {x} and the value of y is {y}\")\\n    ', 'def swap(a,b):\\n    a=a+b\\n    b=a-b\\n    a=a-b\\n    \\n    x=5\\n    y=10\\n    \\n    x,y=swap(x,y)\\n    print(f\"After swapping the value of x is {x} and the value of y is {y}\")\\n    ', 'def swap(a,b):\\n    a,b=b,a\\n    return a,b\\n\\nx=5\\ny=4\\n\\nx,y=swap(x,y)\\n print(f\"After swapping the value of x is {x} and y is {y}\")', 'def swap(a,b):\\n    a,b=b,a\\n    return a,b\\nx=5\\ny=4\\nx,y=swap(x,y)\\nprint(f\"After swapping the value of x is {x} and y is {y}\")', 'def swap(a,b):\\n    a=a+b\\n    b=a-b\\n    a=a-b\\n    \\n    x=5\\n    y=10\\n    \\n    x,y=swap(x,y)\\n    print(f\"After swapping the value of x is {x} and the value of y is {y}\")\\n    ', 'def swap(a,b):\\n    a=a+b\\n    b=a-b\\n    a=a-b\\n    x=5\\n    y=10\\n    x,y=swap(x,y)\\n    print(f\"After swapping the value of x is {x} and the value of y is {y}\")\\n    ', 'a=[1,2,3]\\nb=[1,2,3]\\nc=a\\n\\n#By using == operator\\nprint(a==b)\\nprint(a==c)\\n\\n#By using is operator\\nprint(a is b)\\nprint(b is c)', '*the del statement is used to delete variables or items from a collection (such as lists or dictionaries)', 'x=54\\ny=[1,2,3,4,5]\\n\\nprint(f\"Before deletion the value of x is {x} and the value of y is {y}\")\\n\\ndel x\\ndel[3]\\n\\nprint(\"After deletion the value of x is\",x)# it should show an error\\nprint(\"After deletion the value of y is\",y)', 'x=54\\ny=[1,2,3,4,5]\\n\\nprint(f\"Before deletion the value of x is {x} and the value of y is {y}\")\\n\\ndel x\\ndel [3]\\n\\nprint(\"After deletion the value of x is\",x)# it should show an error\\nprint(\"After deletion the value of y is\",y)', 'x=54\\ny=[1,2,3,4,5]\\n\\nprint(f\"Before deletion the value of x is {x} and the value of y is {y}\")\\n\\ndel x\\ndel y[3]\\n\\nprint(\"After deletion the value of x is\",x)# it should show an error\\nprint(\"After deletion the value of y is\",y)', 'x=54\\ny=[1,2,3,4,5]\\n\\nprint(f\"Before deletion the value of x is {x} and the value of y is {y}\")\\n\\ndel x\\ndel y[3]\\n\\n#print(\"After deletion the value of x is\",x)# it should show an error\\nprint(\"After deletion the value of y is\",y)', 'variable=9\\nprint(\"The variable is Integer\",variable)\\n\\nvariable=5.4\\nprint(\"The variable is floating point number\",variable)\\n\\nvariable=\"Shruti\"\\nprint(\"The variable is String\",variable)\\n\\nvariable=True\\nprint(\"The variable is Boolean\",variable)', '*There are two ways for concatenating two strings in python :', 'first_name=\"Shruti\"\\nmiddle_name=\"Santosh\"\\nlast_name=\"Uttekar\"\\n\\nfull_name=first_name+middle_name+last_name', 'first_name=\"Shruti\"\\nmiddle_name=\"Santosh\"\\nlast_name=\"Uttekar\"\\n\\nfull_name=first_name+\" \"+middle_name+\" \"+last_name', 'first_name=\"Shruti\"\\nmiddle_name=\"Santosh\"\\nlast_name=\"Uttekar\"\\nfull_name=first_name+\" \"+middle_name+\" \"+last_name', 'first_name=\"Shruti\"\\nmiddle_name=\"Santosh\"\\nlast_name=\"Uttekar\"\\nfull_name=first_name+\" \"+middle_name+\" \"+last_name\\nprint(f\"Full name is{full_name}\")', 'first_name=\"Shruti\"\\nmiddle_name=\"Santosh\"\\nlast_name=\"Uttekar\"\\nfull_name=first_name+\" \"+middle_name+\" \"+last_name\\nprint(f\"Full name is {full_name}\")', '# By using + operator\\nfirst_name=\"Shruti\"\\nmiddle_name=\"Santosh\"\\nlast_name=\"Uttekar\"\\nfull_name=first_name+\" \"+middle_name+\" \"+last_name\\nprint(f\"Full name is {full_name}\")\\n\\n#By using += operator\\na=\"Tom\"\\nb=\"Jerry\"\\na+=b\\nprint(\"My favourite childhood cartoon was\",a)', '# By using + operator\\nfirst_name=\"Shruti\"\\nmiddle_name=\"Santosh\"\\nlast_name=\"Uttekar\"\\nfull_name=first_name+\" \"+middle_name+\" \"+last_name\\nprint(f\"Full name is {full_name}\")\\n\\n#By using += operator\\na=\"Tom&\"\\nb=\"Jerry\"\\na+=b\\nprint(\"My favourite childhood cartoon was\",a)', 'my_list=[1,2,3,4,5]\\nprint(\"Before adding\",my_list)\\n\\nmy_list[0]=0\\nprint(\"After adding\",my_list)', 'my_tuple=(1,2,3,4,5)\\nprint(\"Original Tuple\",my_tuple)\\n\\nmy_tuple[0]=99\\nprint(\"After modifying\",my_tuple)#it will show an error', 'my_tuple=(1,2,3,4,5)\\nprint(\"Original Tuple\",my_tuple)\\n\\nmy_tuple[0]=99\\nprint(\"After modifying\",my_tuple)#it will show an error\\n\\n\\nname=\"Shruti\"\\nprint(\"Original Spelling\",name)\\n\\nname[6]=\"i\"\\nprint(\"Modifyed spelling\",name)', 'my_tuple=(1,2,3,4,5)\\nprint(\"Original Tuple\",my_tuple)\\n\\nmy_tuple[0]=99\\nprint(\"After modifying\",my_tuple)#it will show an error', 'name=\"Shruti\"\\nprint(\"Original Spelling\",name)\\n\\nname[6]=\"i\"\\nprint(\"Modifyed spelling\",name)', 'name=\"Shruti\"\\nprint(\"Original Spelling\",name)\\n\\n#name[6]=\"i\"\\n#print(\"Modifyed spelling\",name)# it will show an error', 'my_tuple=(1,2,3,4,5)\\nprint(\"Original Tuple\",my_tuple)\\n\\n#my_tuple[0]=99\\n#print(\"After modifying\",my_tuple)#it will show an error', 'n Python, the global keyword is used to indicate that a variable declared within a function should be treated as a global variable. It allows you to modify the value of a variable defined outside the current function scope.', 'num1=10\\ndef change():\\n    global num1\\n    num1=9\\n    change()\\n    \\n    print(\"The value of global variable is now\",num1)', 'num1=10\\ndef change():\\n    global num1\\n    num1=9\\nchange()\\n    \\n    print(\"The value of global variable is now\",num1)', 'num1=10\\ndef change():\\n    global num1\\n    num1=9\\nchange()\\nprint(\"The value of global variable is now\",num1)', 'def swap(a,b):\\n    a=a+b\\n    b=a-b\\n    a=a-b\\n    x=5\\n    y=10\\nx,y=swap(x,y)\\nprint(f\"After swapping the value of x is {x} and the value of y is {y}\")\\n    ', 'def swap(a,b):\\n    a=a+b\\n    b=a-b\\n    a=a-b\\n    return a,b\\nx=5\\ny=10\\nx,y=swap(x,y)\\nprint(f\"After swapping the value of x is {x} and the value of y is {y}\")\\n    ', 'guide=\"Arjit Sir\"  #global variable\\ndef mcaB():\\n    strength=65   #local variable\\n    present=45    #local variable\\n    absent=strength-present\\n    print(f\"In Room number 3 whose class teacher is {guide} have strength of {strength} students where {present} are present and {absent} are absent\")\\nmcaB()\\n    \\n    ', 'name=\"Shruti\"   #global variable\\ndef form():\\n    rollno=9    #local variable\\n    print(f\"Roll number of {name} is {rollno}\")\\nform()', 'def driving():\\n    car=1969\\n    print(f\"The car name plate number is {car}\")\\ndriving()', 'my_list=[1,2,3]\\nlist_id=id(my_list)\\nprint(f\"The list id is {list_id}\")', 'num1=10 #global variable\\ndef demo():\\n    num2=20\\n    print(\"I am printing the value of local variable by using locals function\",locals())\\n    \\ndemo()\\nprint(\"I am printing the value of global variable by using globals function\",globals())\\n\\n    '], 'Out': {}, 'get_ipython': <bound method InteractiveShell.get_ipython of <ipykernel.zmqshell.ZMQInteractiveShell object at 0x00000264BB082D10>>, 'exit': <IPython.core.autocall.ZMQExitAutocall object at 0x00000264BB096B50>, 'quit': <IPython.core.autocall.ZMQExitAutocall object at 0x00000264BB096B50>, 'open': <function open at 0x00000264B9013100>, '_': '', '__': '', '___': '', '_i': 'my_list=[1,2,3]\\nlist_id=id(my_list)\\nprint(f\"The list id is {list_id}\")', '_ii': 'def driving():\\n    car=1969\\n    print(f\"The car name plate number is {car}\")\\ndriving()', '_iii': 'name=\"Shruti\"   #global variable\\ndef form():\\n    rollno=9    #local variable\\n    print(f\"Roll number of {name} is {rollno}\")\\nform()', '_i1': 'num1=5\\nnum2=4\\nadd=num1+num2\\nprint(f\"Addition of {num1} and {num2} is {add}\")', 'num1': 10, 'num2': 9.5, 'add': 9, '_i2': 'name=\"Shruti\"\\nnum=9\\nprint(f\"You entered the name as {name}\")\\nprint(f\"You entered the number as {num}\")\\nprint(type(name))\\nprint(type(num))', 'name': 'Shruti', 'num': 9, '_i3': '#Correct variables names:\\nnum=5\\nmy_name=\"Shruti\"\\nnum1=4\\nresult=num+num1\\n\\n#Incorrect variable names:\\nNum=5\\nmy name=\"Shruti\"\\nnum 1=4\\nresult=num+ num-1', '_i4': 'def driving():\\n    car=1969\\n    print(f\"The car name plate number is {car}\")\\n    driving()', 'driving': <function driving at 0x00000264BBD93BA0>, '_i5': 'def driving():\\n    car=1969\\n    print(f\"The car name plate number is {car}\")\\n    driving()', '_i6': 'name=\"Shruti\"   #global variable\\ndef form():\\n    rollno=9    #local variable\\n    print(f\"Roll number of {name} is {rollno}\")\\n    form()', 'form': <function form at 0x00000264BB0F9DA0>, '_i7': 'guide=\"Arjit Sir\"  #global variable\\ndef mcaB():\\n    strength=65   #local variable\\n    present=45    #local variable\\n    absent=strength-present\\n    print(f\"In Room number 3 whose class teacher is {guide} have strength of {strength} students where {present} are present and {absent} are absent\")\\n    \\n    mcaB()\\n    \\n    ', 'guide': 'Arjit Sir', 'mcaB': <function mcaB at 0x00000264BBD93EC0>, '_i8': 'num1=9\\nnum2=9.5\\nnum3=\"Hello\"\\nnum4=True\\nnum5=[1,2,3]\\nnum6=(\"Shruti\",9,\"Pune\")\\nnum7={1,2,10,20}\\nnum8={\"Pimpri\":411017,\"Maharashtra\":36}\\n\\nprint(\"Integer is\",num1)\\nprint(\"Floating number is\",num2)\\nprint(\"String is\",num3)\\nprint(\"Boolean number is\",num4)\\nprint(\"List is\",num5)\\nprint(\"Tuple is\",num6)\\nprint(\"Set is\",num7)\\nprint(\"Dictionary is\",num8)', 'num3': 'Hello', 'num4': True, 'num5': [1, 2, 3], 'num6': ('Shruti', 9, 'Pune'), 'num7': {1, 2, 10, 20}, 'num8': {'Pimpri': 411017, 'Maharashtra': 36}, '_i9': 'guide=\"Arjit Sir\"  #global variable\\ndef mcaB():\\n    strength=65   #local variable\\n    present=45    #local variable\\n    absent=strength-present\\n    print(f\"In Room number 3 whose class teacher is {guide} have strength of {strength} students where {present} are present and {absent} are absent\")\\n    \\n    mcaB()\\n    \\n    ', '_i10': 'def swap(a,b):\\n    a=a+b\\n    b=a-b\\n    a=a-b\\n    \\n    x=5\\n    y=10\\n    \\n    swap(x,y)\\n    print(f\"After swapping the value of x is {x} and the value of y is {y}\")\\n    ', 'swap': <function swap at 0x00000264BB1A7C40>, '_i11': 'def swap(a,b):\\n    a=a+b\\n    b=a-b\\n    a=a-b\\n    \\n    x=5\\n    y=10\\n    \\n    swap(x,y)\\n    print(f\"After swapping the value of x is {x} and the value of y is {y}\")\\n    ', '_i12': 'def swap(a,b):\\n    a=a+b\\n    b=a-b\\n    a=a-b\\n    \\n    x=5\\n    y=10\\n    \\n    x,y=swap(x,y)\\n    print(f\"After swapping the value of x is {x} and the value of y is {y}\")\\n    ', '_i13': 'def swap(a,b):\\n    a,b=b,a\\n    return a,b\\n\\nx=5\\ny=4\\n\\nx,y=swap(x,y)\\n print(f\"After swapping the value of x is {x} and y is {y}\")', '_i14': 'def swap(a,b):\\n    a,b=b,a\\n    return a,b\\nx=5\\ny=4\\nx,y=swap(x,y)\\nprint(f\"After swapping the value of x is {x} and y is {y}\")', 'y': 5, '_i15': 'def swap(a,b):\\n    a=a+b\\n    b=a-b\\n    a=a-b\\n    \\n    x=5\\n    y=10\\n    \\n    x,y=swap(x,y)\\n    print(f\"After swapping the value of x is {x} and the value of y is {y}\")\\n    ', '_i16': 'def swap(a,b):\\n    a=a+b\\n    b=a-b\\n    a=a-b\\n    x=5\\n    y=10\\n    x,y=swap(x,y)\\n    print(f\"After swapping the value of x is {x} and the value of y is {y}\")\\n    ', '_i17': 'a=[1,2,3]\\nb=[1,2,3]\\nc=a\\n\\n#By using == operator\\nprint(a==b)\\nprint(a==c)\\n\\n#By using is operator\\nprint(a is b)\\nprint(b is c)', 'a': 'Tom&Jerry', 'b': 'Jerry', 'c': [1, 2, 3], '_i18': ' *the del statement is used to delete variables or items from a collection (such as lists or dictionaries)', '_i19': 'x=54\\ny=[1,2,3,4,5]\\n\\nprint(f\"Before deletion the value of x is {x} and the value of y is {y}\")\\n\\ndel x\\ndel[3]\\n\\nprint(\"After deletion the value of x is\",x)# it should show an error\\nprint(\"After deletion the value of y is\",y)', '_i20': 'x=54\\ny=[1,2,3,4,5]\\n\\nprint(f\"Before deletion the value of x is {x} and the value of y is {y}\")\\n\\ndel x\\ndel [3]\\n\\nprint(\"After deletion the value of x is\",x)# it should show an error\\nprint(\"After deletion the value of y is\",y)', '_i21': 'x=54\\ny=[1,2,3,4,5]\\n\\nprint(f\"Before deletion the value of x is {x} and the value of y is {y}\")\\n\\ndel x\\ndel y[3]\\n\\nprint(\"After deletion the value of x is\",x)# it should show an error\\nprint(\"After deletion the value of y is\",y)', '_i22': 'x=54\\ny=[1,2,3,4,5]\\n\\nprint(f\"Before deletion the value of x is {x} and the value of y is {y}\")\\n\\ndel x\\ndel y[3]\\n\\n#print(\"After deletion the value of x is\",x)# it should show an error\\nprint(\"After deletion the value of y is\",y)', '_i23': 'variable=9\\nprint(\"The variable is Integer\",variable)\\n\\nvariable=5.4\\nprint(\"The variable is floating point number\",variable)\\n\\nvariable=\"Shruti\"\\nprint(\"The variable is String\",variable)\\n\\nvariable=True\\nprint(\"The variable is Boolean\",variable)', 'variable': True, '_i24': '*There are two ways for concatenating two strings in python :', '_i25': 'first_name=\"Shruti\"\\nmiddle_name=\"Santosh\"\\nlast_name=\"Uttekar\"\\n\\nfull_name=first_name+middle_name+last_name', 'first_name': 'Shruti', 'middle_name': 'Santosh', 'last_name': 'Uttekar', 'full_name': 'Shruti Santosh Uttekar', '_i26': 'first_name=\"Shruti\"\\nmiddle_name=\"Santosh\"\\nlast_name=\"Uttekar\"\\n\\nfull_name=first_name+\" \"+middle_name+\" \"+last_name', '_i27': 'first_name=\"Shruti\"\\nmiddle_name=\"Santosh\"\\nlast_name=\"Uttekar\"\\nfull_name=first_name+\" \"+middle_name+\" \"+last_name', '_i28': 'first_name=\"Shruti\"\\nmiddle_name=\"Santosh\"\\nlast_name=\"Uttekar\"\\nfull_name=first_name+\" \"+middle_name+\" \"+last_name\\nprint(f\"Full name is{full_name}\")', '_i29': 'first_name=\"Shruti\"\\nmiddle_name=\"Santosh\"\\nlast_name=\"Uttekar\"\\nfull_name=first_name+\" \"+middle_name+\" \"+last_name\\nprint(f\"Full name is {full_name}\")', '_i30': '# By using + operator\\nfirst_name=\"Shruti\"\\nmiddle_name=\"Santosh\"\\nlast_name=\"Uttekar\"\\nfull_name=first_name+\" \"+middle_name+\" \"+last_name\\nprint(f\"Full name is {full_name}\")\\n\\n#By using += operator\\na=\"Tom\"\\nb=\"Jerry\"\\na+=b\\nprint(\"My favourite childhood cartoon was\",a)', '_i31': '# By using + operator\\nfirst_name=\"Shruti\"\\nmiddle_name=\"Santosh\"\\nlast_name=\"Uttekar\"\\nfull_name=first_name+\" \"+middle_name+\" \"+last_name\\nprint(f\"Full name is {full_name}\")\\n\\n#By using += operator\\na=\"Tom&\"\\nb=\"Jerry\"\\na+=b\\nprint(\"My favourite childhood cartoon was\",a)', '_i32': 'my_list=[1,2,3,4,5]\\nprint(\"Before adding\",my_list)\\n\\nmy_list[0]=0\\nprint(\"After adding\",my_list)', 'my_list': [1, 2, 3], '_i33': 'my_tuple=(1,2,3,4,5)\\nprint(\"Original Tuple\",my_tuple)\\n\\nmy_tuple[0]=99\\nprint(\"After modifying\",my_tuple)#it will show an error', 'my_tuple': (1, 2, 3, 4, 5), '_i34': 'my_tuple=(1,2,3,4,5)\\nprint(\"Original Tuple\",my_tuple)\\n\\nmy_tuple[0]=99\\nprint(\"After modifying\",my_tuple)#it will show an error\\n\\n\\nname=\"Shruti\"\\nprint(\"Original Spelling\",name)\\n\\nname[6]=\"i\"\\nprint(\"Modifyed spelling\",name)', '_i35': 'my_tuple=(1,2,3,4,5)\\nprint(\"Original Tuple\",my_tuple)\\n\\nmy_tuple[0]=99\\nprint(\"After modifying\",my_tuple)#it will show an error', '_i36': 'name=\"Shruti\"\\nprint(\"Original Spelling\",name)\\n\\nname[6]=\"i\"\\nprint(\"Modifyed spelling\",name)', '_i37': 'name=\"Shruti\"\\nprint(\"Original Spelling\",name)\\n\\n#name[6]=\"i\"\\n#print(\"Modifyed spelling\",name)# it will show an error', '_i38': 'my_tuple=(1,2,3,4,5)\\nprint(\"Original Tuple\",my_tuple)\\n\\n#my_tuple[0]=99\\n#print(\"After modifying\",my_tuple)#it will show an error', '_i39': 'n Python, the global keyword is used to indicate that a variable declared within a function should be treated as a global variable. It allows you to modify the value of a variable defined outside the current function scope.', '_i40': 'num1=10\\ndef change():\\n    global num1\\n    num1=9\\n    change()\\n    \\n    print(\"The value of global variable is now\",num1)', 'change': <function change at 0x00000264BBD93E20>, '_i41': 'num1=10\\ndef change():\\n    global num1\\n    num1=9\\nchange()\\n    \\n    print(\"The value of global variable is now\",num1)', '_i42': 'num1=10\\ndef change():\\n    global num1\\n    num1=9\\nchange()\\nprint(\"The value of global variable is now\",num1)', '_i43': 'def swap(a,b):\\n    a=a+b\\n    b=a-b\\n    a=a-b\\n    x=5\\n    y=10\\nx,y=swap(x,y)\\nprint(f\"After swapping the value of x is {x} and the value of y is {y}\")\\n    ', '_i44': 'def swap(a,b):\\n    a=a+b\\n    b=a-b\\n    a=a-b\\n    return a,b\\nx=5\\ny=10\\nx,y=swap(x,y)\\nprint(f\"After swapping the value of x is {x} and the value of y is {y}\")\\n    ', 'x': 10, '_i45': 'guide=\"Arjit Sir\"  #global variable\\ndef mcaB():\\n    strength=65   #local variable\\n    present=45    #local variable\\n    absent=strength-present\\n    print(f\"In Room number 3 whose class teacher is {guide} have strength of {strength} students where {present} are present and {absent} are absent\")\\nmcaB()\\n    \\n    ', '_i46': 'name=\"Shruti\"   #global variable\\ndef form():\\n    rollno=9    #local variable\\n    print(f\"Roll number of {name} is {rollno}\")\\nform()', '_i47': 'def driving():\\n    car=1969\\n    print(f\"The car name plate number is {car}\")\\ndriving()', '_i48': 'my_list=[1,2,3]\\nlist_id=id(my_list)\\nprint(f\"The list id is {list_id}\")', 'list_id': 2631672510848, '_i49': 'num1=10 #global variable\\ndef demo():\\n    num2=20\\n    print(\"I am printing the value of local variable by using locals function\",locals())\\n    \\ndemo()\\nprint(\"I am printing the value of global variable by using globals function\",globals())\\n\\n    ', 'demo': <function demo at 0x00000264BB0FA7A0>}\n"
     ]
    }
   ],
   "source": [
    "num1=10 #global variable\n",
    "def demo():\n",
    "    num2=20\n",
    "    print(\"I am printing the value of local variable by using locals function\",locals())\n",
    "    \n",
    "demo()\n",
    "print(\"I am printing the value of global variable by using globals function\",globals())\n",
    "\n",
    "    "
   ]
  },
  {
   "cell_type": "markdown",
   "id": "a1a2fc5d",
   "metadata": {},
   "source": [
    "## How to check the type of variable in Python?"
   ]
  },
  {
   "cell_type": "markdown",
   "id": "0e8d8c60",
   "metadata": {},
   "source": [
    "* type() function is used to check the type of variable in python"
   ]
  },
  {
   "cell_type": "code",
   "execution_count": 53,
   "id": "750aa9ea",
   "metadata": {},
   "outputs": [
    {
     "name": "stdout",
     "output_type": "stream",
     "text": [
      "<class 'int'>\n",
      "<class 'float'>\n",
      "<class 'str'>\n",
      "<class 'bool'>\n",
      "<class 'list'>\n",
      "<class 'tuple'>\n",
      "<class 'set'>\n",
      "<class 'dict'>\n"
     ]
    }
   ],
   "source": [
    "num1=9\n",
    "num2=9.5\n",
    "num3=\"Hello\"\n",
    "num4=True\n",
    "num5=[1,2,3]\n",
    "num6=(\"Shruti\",9,\"Pune\")\n",
    "num7={1,2,10,20}\n",
    "num8={\"Pimpri\":411017,\"Maharashtra\":36}\n",
    "\n",
    "\n",
    "print(type(num1))\n",
    "print(type(num2))\n",
    "print(type(num3))\n",
    "print(type(num4))\n",
    "print(type(num5))\n",
    "print(type(num6))\n",
    "print(type(num7))\n",
    "print(type(num8))"
   ]
  },
  {
   "cell_type": "markdown",
   "id": "6dd5ae83",
   "metadata": {},
   "source": [
    "## Variable unpacking "
   ]
  },
  {
   "cell_type": "code",
   "execution_count": 54,
   "id": "a9527b60",
   "metadata": {},
   "outputs": [
    {
     "name": "stdout",
     "output_type": "stream",
     "text": [
      "original numbers (5, 4)\n",
      "unpacked variables a is 5 and b is 4\n"
     ]
    }
   ],
   "source": [
    "numbers=5,4\n",
    "a,b=numbers\n",
    "print(\"original numbers\",numbers)\n",
    "print(f\"unpacked variables a is {a} and b is {b}\")"
   ]
  },
  {
   "cell_type": "markdown",
   "id": "fda79443",
   "metadata": {},
   "source": [
    "## Concept of reference counting in python"
   ]
  },
  {
   "cell_type": "markdown",
   "id": "7e51ece9",
   "metadata": {},
   "source": [
    "* The concept of reference counting is a memory management technique\n",
    "* In python every object has its own reference count,when this count drops to Zero then memory allocated to that particular object is deallocated\n",
    "* When the reference count is incremented a new reference to an object is created when it is decremented the reference goes out of scope or it is been explicitly deleted"
   ]
  },
  {
   "cell_type": "code",
   "execution_count": 55,
   "id": "d9b2bddc",
   "metadata": {},
   "outputs": [],
   "source": [
    "a=[1,2,3,4,5] # the reference count of variable a is 1\n",
    "b=a           # now the reference count of variable a is 2\n",
    "del a         # the reference count is now decremented to 1\n",
    "b=\"Python\"    # the reference count of b is now zero & memory is deallocated\n"
   ]
  },
  {
   "cell_type": "markdown",
   "id": "611aefd2",
   "metadata": {},
   "source": [
    "## Type Conversion"
   ]
  },
  {
   "cell_type": "markdown",
   "id": "c3c7b470",
   "metadata": {},
   "source": [
    "* Converting one data type of a variable to another data type is called as Type Conversion"
   ]
  },
  {
   "cell_type": "code",
   "execution_count": 57,
   "id": "956839c4",
   "metadata": {},
   "outputs": [
    {
     "name": "stdout",
     "output_type": "stream",
     "text": [
      "After type conversion the floating point number is 54.0\n",
      "After type conversion the integer number is 4\n",
      "After type conversion the floating point number is 333.0\n"
     ]
    }
   ],
   "source": [
    "var_int=54\n",
    "var_float=4.5\n",
    "var_string=\"333\"\n",
    "\n",
    "#converting one data type to another\n",
    "\n",
    "#converting integer to float\n",
    "a=float(var_int)\n",
    "print(\"After type conversion the floating point number is\",a)\n",
    "\n",
    "#converting  float to integer\n",
    "b=int(var_float)\n",
    "print(\"After type conversion the integer number is\",b)\n",
    "\n",
    "#converting to string to float\n",
    "c= float(var_string)\n",
    "print(\"After type conversion the floating point number is\",c)\n"
   ]
  },
  {
   "cell_type": "markdown",
   "id": "a5195472",
   "metadata": {},
   "source": [
    "## What is the difference between \"Shallow copy \" and \"Deep copy\" with respect to variables?"
   ]
  },
  {
   "cell_type": "markdown",
   "id": "8df58613",
   "metadata": {},
   "source": [
    "* In Python, shallow copy and deep copy are two methods used to duplicate objects, such as lists or dictionaries. The difference lies in how they handle nested objects. Shallow copy creates a new object but does not create new objects for the elements within the container, while deep copy creates a completely independent copy with new objects for all nested elements.\n",
    "\n",
    "* Shallow Copy: Shallow copy creates a new object but does not create new objects for the elements within the container.\n",
    "* Deep Copy: Deep copy creates a completely independent copy with new objects for all nested elements.\n",
    "\n",
    "* In the shallow copy example, modifying a nested element in the original list reflects the change in the shallow copied list. In the deep copy example, modifying the original list does not affect the deep copied list, showcasing the independence achieved through deep copy."
   ]
  },
  {
   "cell_type": "code",
   "execution_count": 63,
   "id": "77978b43",
   "metadata": {},
   "outputs": [
    {
     "name": "stdout",
     "output_type": "stream",
     "text": [
      "Original list is [1, ['A', 3], 4]\n",
      "Shallow copy is [1, ['A', 3], 4]\n"
     ]
    }
   ],
   "source": [
    "import copy\n",
    "my_list=[1,[2,3],4]\n",
    "s_cpy=copy.copy(my_list)\n",
    "my_list[1][0]='A'\n",
    "print(\"Original list is\",my_list)\n",
    "print(\"Shallow copy is\",s_cpy)"
   ]
  },
  {
   "cell_type": "code",
   "execution_count": 64,
   "id": "34899420",
   "metadata": {},
   "outputs": [
    {
     "name": "stdout",
     "output_type": "stream",
     "text": [
      "Original list is [1, ['B', 3], 4]\n",
      "Shallow copy is [1, [2, 3], 4]\n"
     ]
    }
   ],
   "source": [
    "import copy\n",
    "my_list=[1,[2,3],4]\n",
    "d_cpy=copy.deepcopy(my_list)\n",
    "my_list[1][0]='B'\n",
    "print(\"Original list is\",my_list)\n",
    "print(\"Shallow copy is\",d_cpy)"
   ]
  },
  {
   "cell_type": "code",
   "execution_count": null,
   "id": "b55296f4",
   "metadata": {},
   "outputs": [],
   "source": []
  }
 ],
 "metadata": {
  "kernelspec": {
   "display_name": "Python 3 (ipykernel)",
   "language": "python",
   "name": "python3"
  },
  "language_info": {
   "codemirror_mode": {
    "name": "ipython",
    "version": 3
   },
   "file_extension": ".py",
   "mimetype": "text/x-python",
   "name": "python",
   "nbconvert_exporter": "python",
   "pygments_lexer": "ipython3",
   "version": "3.11.5"
  }
 },
 "nbformat": 4,
 "nbformat_minor": 5
}

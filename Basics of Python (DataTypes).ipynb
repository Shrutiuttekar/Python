{
 "cells": [
  {
   "cell_type": "markdown",
   "id": "0812da1f",
   "metadata": {},
   "source": [
    "# Basics of Python"
   ]
  },
  {
   "cell_type": "markdown",
   "id": "1b84037d",
   "metadata": {},
   "source": [
    "## Data Types:"
   ]
  },
  {
   "cell_type": "markdown",
   "id": "c5c63f96",
   "metadata": {},
   "source": [
    "### Built-in Data types in Python"
   ]
  },
  {
   "cell_type": "markdown",
   "id": "87e5c4b7",
   "metadata": {},
   "source": [
    "* In Python, there are several built-in data types that serve different purposes. Some of the main built-in data types include:\n",
    "\n",
    "* int: Integer\n",
    "* float: Floating-point number\n",
    "* str: String\n",
    "* bool: Boolean\n",
    "* list: List\n",
    "* tuple: Tuple\n",
    "* set: Set\n",
    "* dict: Dictionary"
   ]
  },
  {
   "cell_type": "code",
   "execution_count": 1,
   "id": "dd4d68aa",
   "metadata": {},
   "outputs": [
    {
     "name": "stdout",
     "output_type": "stream",
     "text": [
      "Integer variable is 45\n",
      "Floating point variable is 5.9\n",
      "String variable is 999\n",
      "Boolean variable is True\n",
      "List variable is [1, 2, 3]\n",
      "Tuple variable is (10, 20, 30)\n",
      "Set variable is {200, 100, 300}\n",
      "Dictionary variable is {'Fruit': 'Mango', 'Place': 'Pune'}\n"
     ]
    }
   ],
   "source": [
    "int_var=45\n",
    "float_var=5.9\n",
    "str_var=\"999\"\n",
    "bool_var=True\n",
    "list_var=[1,2,3]\n",
    "tuple_var=(10,20,30)\n",
    "set_var={100,200,300}\n",
    "dict_var={\"Fruit\":\"Mango\", \"Place\":\"Pune\"}\n",
    "\n",
    "print(\"Integer variable is\",int_var)\n",
    "print(\"Floating point variable is\",float_var)\n",
    "print(\"String variable is\",str_var)\n",
    "print(\"Boolean variable is\",bool_var)\n",
    "print(\"List variable is\",list_var)\n",
    "print(\"Tuple variable is\",tuple_var)\n",
    "print(\"Set variable is\",set_var)\n",
    "print(\"Dictionary variable is\",dict_var)"
   ]
  },
  {
   "cell_type": "markdown",
   "id": "e6fc2e10",
   "metadata": {},
   "source": [
    "### What is the difference between Mutable and Immutable variables?"
   ]
  },
  {
   "cell_type": "markdown",
   "id": "d9a79633",
   "metadata": {},
   "source": [
    "* **Mutable** means object value can be changed after creation\n",
    "* **Immutable** means object value cannot be changed after creation"
   ]
  },
  {
   "cell_type": "code",
   "execution_count": 7,
   "id": "bc7f9567",
   "metadata": {},
   "outputs": [
    {
     "name": "stdout",
     "output_type": "stream",
     "text": [
      "Original list is [10, 20, 30]\n",
      "Modifyed list is [10, 20, 40]\n"
     ]
    }
   ],
   "source": [
    "my_list=[10,20,30]                 # list is created\n",
    "print(\"Original list is\",my_list)\n",
    "my_list[2]=40                      # modifying the list after creation\n",
    "print(\"Modifyed list is\",my_list)  # [10,20,30,40]\n",
    "\n"
   ]
  },
  {
   "cell_type": "code",
   "execution_count": 9,
   "id": "79fe1b3a",
   "metadata": {},
   "outputs": [
    {
     "name": "stdout",
     "output_type": "stream",
     "text": [
      "Cities ('Mumbai', 'Pune')\n"
     ]
    }
   ],
   "source": [
    "my_tuple=(\"Mumbai\",\"Pune\")\n",
    "print(\"Cities\",my_tuple)\n",
    "\n",
    "#my_tuple[0]=\"Pune\"\n",
    "#print(\"Modifyed tuple will give an error\",my_tuple)  # Because tuples are Immutable"
   ]
  },
  {
   "cell_type": "markdown",
   "id": "74e7c735",
   "metadata": {},
   "source": [
    "### What is the purpose of type() function in Python?"
   ]
  },
  {
   "cell_type": "markdown",
   "id": "48fc4558",
   "metadata": {},
   "source": [
    "* type() function is used to get the type of an object.\n",
    "* It returns the type of the specified object, providing information about the data type of the variable."
   ]
  },
  {
   "cell_type": "code",
   "execution_count": 10,
   "id": "8e471aa9",
   "metadata": {},
   "outputs": [
    {
     "name": "stdout",
     "output_type": "stream",
     "text": [
      "Integer variable is <class 'int'>\n",
      "Floating point variable is <class 'float'>\n",
      "String variable is <class 'str'>\n",
      "Boolean variable is <class 'bool'>\n",
      "List variable is <class 'list'>\n",
      "Tuple variable is <class 'tuple'>\n",
      "Set variable is <class 'set'>\n",
      "Dictionary variable is <class 'dict'>\n"
     ]
    }
   ],
   "source": [
    "int_var=45\n",
    "float_var=5.9\n",
    "str_var=\"999\"\n",
    "bool_var=True\n",
    "list_var=[1,2,3]\n",
    "tuple_var=(10,20,30)\n",
    "set_var={100,200,300}\n",
    "dict_var={\"Fruit\":\"Mango\", \"Place\":\"Pune\"}\n",
    "\n",
    "print(\"Integer variable is\",type(int_var))\n",
    "print(\"Floating point variable is\",type(float_var))\n",
    "print(\"String variable is\",type(str_var))\n",
    "print(\"Boolean variable is\",type(bool_var))\n",
    "print(\"List variable is\",type(list_var))\n",
    "print(\"Tuple variable is\",type(tuple_var))\n",
    "print(\"Set variable is\",type(set_var))\n",
    "print(\"Dictionary variable is\",type(dict_var))"
   ]
  },
  {
   "cell_type": "markdown",
   "id": "130390a3",
   "metadata": {},
   "source": [
    "### Numeric Data types in Python"
   ]
  },
  {
   "cell_type": "markdown",
   "id": "44e2f604",
   "metadata": {},
   "source": [
    "* **int**-Integer number represents whole number without any fractional unit.\n",
    "* **float**-Floating point number represents fractional unit.\n",
    "* **complex**-Complex number are in the form of a+bj where a and b are whole numbers and j is an imaginary unit."
   ]
  },
  {
   "cell_type": "code",
   "execution_count": 13,
   "id": "92298744",
   "metadata": {},
   "outputs": [
    {
     "name": "stdout",
     "output_type": "stream",
     "text": [
      "Integer number is 54\n",
      "Floating point number is 4.5\n",
      "Complex numbers are (2+3j)\n"
     ]
    }
   ],
   "source": [
    "a=54\n",
    "b=4.5\n",
    "c=2+3j\n",
    "\n",
    "print(\"Integer number is\",a)\n",
    "print(\"Floating point number is\",b)\n",
    "print(\"Complex numbers are\",c)"
   ]
  },
  {
   "cell_type": "markdown",
   "id": "7f5e0922",
   "metadata": {},
   "source": [
    "### Concept of Sequence in Python"
   ]
  },
  {
   "cell_type": "markdown",
   "id": "e6350e65",
   "metadata": {},
   "source": [
    "* In Python, a sequence is a data type that represents an ordered collection of items. Sequences are iterable and support various operations like indexing, slicing, and concatenation. Some common sequence data types in Python include str (string), list, tuple, and range."
   ]
  },
  {
   "cell_type": "markdown",
   "id": "daab41f0",
   "metadata": {},
   "source": [
    "* **String(str):** Sequence of characters"
   ]
  },
  {
   "cell_type": "code",
   "execution_count": 15,
   "id": "bd863b0c",
   "metadata": {},
   "outputs": [
    {
     "name": "stdout",
     "output_type": "stream",
     "text": [
      "String variable is Hello Python\n"
     ]
    }
   ],
   "source": [
    "#Example of String\n",
    "\n",
    "str_var=\"Hello Python\"\n",
    "print(\"String variable is\",str_var)"
   ]
  },
  {
   "cell_type": "markdown",
   "id": "711aea5e",
   "metadata": {},
   "source": [
    "* **List**: Mutable sequence of items which can contain different data type"
   ]
  },
  {
   "cell_type": "code",
   "execution_count": 14,
   "id": "a448fd7a",
   "metadata": {},
   "outputs": [
    {
     "name": "stdout",
     "output_type": "stream",
     "text": [
      "List variable are ['shruti', 45, 'Pune']\n"
     ]
    }
   ],
   "source": [
    "#Example of List\n",
    "\n",
    "list_var=[\"shruti\",45,\"Pune\"]\n",
    "print(\"List variable are\",list_var)"
   ]
  },
  {
   "cell_type": "markdown",
   "id": "2c1252d1",
   "metadata": {},
   "source": [
    "* **Tuple**: Immutable sequence of items which can contain different data types"
   ]
  },
  {
   "cell_type": "code",
   "execution_count": 17,
   "id": "8c18a3f7",
   "metadata": {},
   "outputs": [
    {
     "name": "stdout",
     "output_type": "stream",
     "text": [
      "Tuple variables are ('Dennis Ritchie', 'James Gosling', 99, 45, 'Guido van Rossum')\n"
     ]
    }
   ],
   "source": [
    "#Example of Tuple\n",
    "\n",
    "tuple_var=(\"Dennis Ritchie\",\"James Gosling\",99,45,\"Guido van Rossum\")\n",
    "print(\"Tuple variables are\",tuple_var)"
   ]
  },
  {
   "cell_type": "markdown",
   "id": "31710a3f",
   "metadata": {},
   "source": [
    "* **Range**:reperesents range of numbers\n",
    "* range() method is used for getting the range of particular elements\n",
    "* To display the range of numbers list() function is used before printing "
   ]
  },
  {
   "cell_type": "code",
   "execution_count": 19,
   "id": "2bee8354",
   "metadata": {},
   "outputs": [
    {
     "name": "stdout",
     "output_type": "stream",
     "text": [
      "Range is [1, 2, 3, 4, 5, 6, 7, 8, 9]\n"
     ]
    }
   ],
   "source": [
    "#Example of Range\n",
    "\n",
    "range_var=range(1,10)\n",
    "print(\"Range is\",list(range_var))"
   ]
  },
  {
   "cell_type": "markdown",
   "id": "052af20f",
   "metadata": {},
   "source": [
    "### Use of Set in Python:"
   ]
  },
  {
   "cell_type": "markdown",
   "id": "ccc52eb1",
   "metadata": {},
   "source": [
    "* Set is an unordered collection of unique elements. \n",
    "* Sets are useful for tasks that require membership testing, eliminating duplicate entries, and performing mathematical set operations. Sets are defined using curly braces ({}) or the set() constructor."
   ]
  },
  {
   "cell_type": "code",
   "execution_count": 26,
   "id": "8a1bc441",
   "metadata": {},
   "outputs": [
    {
     "name": "stdout",
     "output_type": "stream",
     "text": [
      "Original set is {0, 1, 2, 3, 4, 5, 6, 7, 8}\n",
      "{0, 1, 2, 3, 4, 5, 6, 7, 8, 9}\n",
      "{0, 1, 2, 3, 5, 6, 7, 8, 9}\n"
     ]
    }
   ],
   "source": [
    "#Manupulating set / operations on set\n",
    "\n",
    "set_var={1,2,3,6,5,3,7,8,3,2,0,2,4,7,6,5}\n",
    "print(\"Original set is\",set_var)\n",
    "\n",
    "#adding element to set\n",
    "set_var.add(9)\n",
    "print(set_var)\n",
    "                      #print(\"You added\",set_var.add(9))\n",
    "set_var.remove(4)\n",
    "print(set_var)        #print(\"You removed\",set_var.remove(4))\n"
   ]
  },
  {
   "cell_type": "code",
   "execution_count": 28,
   "id": "c6aa922a",
   "metadata": {},
   "outputs": [
    {
     "name": "stdout",
     "output_type": "stream",
     "text": [
      "Union is {0, 1, 2, 3, 4, 5, 6, 7, 8, 9}\n",
      "Intersection is set()\n",
      "Difference is {0, 6, 7, 8, 9}\n"
     ]
    }
   ],
   "source": [
    "set1={1,2,3,4,5}\n",
    "set2={6,7,8,9,0}\n",
    "\n",
    "#union operation\n",
    "union=set1|set2\n",
    "print(\"Union is\",union)\n",
    "\n",
    "#intersection operation\n",
    "intersection=set1&set2\n",
    "print(\"Intersection is\",intersection)\n",
    "\n",
    "#difference operation\n",
    "difference=set2-set1\n",
    "print(\"Difference is\",difference)"
   ]
  },
  {
   "cell_type": "markdown",
   "id": "8beb097c",
   "metadata": {},
   "source": [
    "### Characteristics of str data type"
   ]
  },
  {
   "cell_type": "markdown",
   "id": "cbe9e940",
   "metadata": {},
   "source": [
    "* The str data type in Python represents a sequence of characters and is commonly used to store textual data. \n",
    "* Strings are immutable, meaning their values cannot be changed after creation. They support various operations, including indexing, slicing, and string concatenation."
   ]
  },
  {
   "cell_type": "code",
   "execution_count": 33,
   "id": "a9a7d3a2",
   "metadata": {},
   "outputs": [
    {
     "name": "stdout",
     "output_type": "stream",
     "text": [
      "My name is Shruti\n",
      "First letter of my name is S\n",
      "Last letter of my name is i\n",
      "My friends call me Shru\n",
      "My full name is Shruti Uttekar\n"
     ]
    }
   ],
   "source": [
    "str_var=\"Shruti\"\n",
    "print(\"My name is\",str_var)\n",
    "\n",
    "#str_var[6]=\"i\"\n",
    "#print(str_var)          #which will show an error\n",
    "\n",
    "#Indexing\n",
    "first=str_var[0]\n",
    "print(\"First letter of my name is\",first)\n",
    "last=str_var[5]\n",
    "print(\"Last letter of my name is\",last)\n",
    "\n",
    "#Slicing\n",
    "var1=str_var[0:4]\n",
    "print(\"My friends call me\",var1)\n",
    "\n",
    "#Concatenation \n",
    "my_str=str_var+\" \"+\"Uttekar\"\n",
    "print(\"My full name is\",my_str)\n"
   ]
  },
  {
   "cell_type": "markdown",
   "id": "8b88507a",
   "metadata": {},
   "source": [
    "### Purpose of Boolean data type"
   ]
  },
  {
   "cell_type": "markdown",
   "id": "edbd242c",
   "metadata": {},
   "source": [
    "* The bool data type in Python is used to represent Boolean values, which can be either True or False. Booleans are essential for logical operations, conditional statements, and comparisons in Python.\n",
    "* Booleans are crucial for decision-making and control flow in Python programs. They are often employed in conditions to determine the flow of the program based on the truth value of expressions."
   ]
  },
  {
   "cell_type": "code",
   "execution_count": 35,
   "id": "a47166db",
   "metadata": {},
   "outputs": [
    {
     "name": "stdout",
     "output_type": "stream",
     "text": [
      "False\n",
      "True\n",
      "True\n"
     ]
    }
   ],
   "source": [
    "black=False\n",
    "white=True\n",
    "\n",
    "#logical operators\n",
    "var_1=black and white\n",
    "var_2=black or white\n",
    "var_3=not black\n",
    "\n",
    "print(var_1)\n",
    "print(var_2)\n",
    "print(var_3)"
   ]
  },
  {
   "cell_type": "markdown",
   "id": "39937901",
   "metadata": {},
   "source": [
    "### Concept of Type casting"
   ]
  },
  {
   "cell_type": "markdown",
   "id": "74937b96",
   "metadata": {},
   "source": [
    "* Type casting in Python refers to the process of converting a variable from one data type to another. This is useful when you want to perform operations or comparisons involving variables of different data types.\n",
    "* Type casting is demonstrated for converting an integer to a float, a float to an integer, and an integer to a string. Python provides built-in functions (float(), int(), str(), etc.) for performing type casting."
   ]
  },
  {
   "cell_type": "markdown",
   "id": "13722695",
   "metadata": {},
   "source": [
    "### Creating an empty dictionary"
   ]
  },
  {
   "cell_type": "markdown",
   "id": "5aefe860",
   "metadata": {},
   "source": [
    "* There are two ways for creating an empty dictionary:\n",
    "* 1.dict()\n",
    "* 2.{}\n",
    "\n",
    "* In Python, an empty dictionary can be created using curly braces ({}) or by using the dict() constructor without any arguments.\n"
   ]
  },
  {
   "cell_type": "code",
   "execution_count": 38,
   "id": "23c72dec",
   "metadata": {},
   "outputs": [
    {
     "name": "stdout",
     "output_type": "stream",
     "text": [
      "Empty dictionary is been created  {}\n",
      "Empty dictionary is been created {}\n"
     ]
    }
   ],
   "source": [
    "my_dict={}\n",
    "print(\"Empty dictionary is been created \",my_dict)\n",
    "\n",
    "my_dict1=dict()\n",
    "print(\"Empty dictionary is been created\",my_dict1)"
   ]
  },
  {
   "cell_type": "markdown",
   "id": "e4fde2ae",
   "metadata": {},
   "source": [
    "### Slices in Python"
   ]
  },
  {
   "cell_type": "markdown",
   "id": "3007c2a7",
   "metadata": {},
   "source": [
    "* In python Slice is used to extract a particular portion from a sequence such as string,list and tuple\n",
    "* The syntax is start:stop:step where start is initial point, stop is the ending point and step is the size between both\n"
   ]
  },
  {
   "cell_type": "code",
   "execution_count": 11,
   "id": "5c91eb26",
   "metadata": {},
   "outputs": [
    {
     "name": "stdout",
     "output_type": "stream",
     "text": [
      "Wdedy\n",
      "Sun\n",
      "yadsurhT\n"
     ]
    }
   ],
   "source": [
    "my_string=\"Wednesday\"\n",
    "opt=my_string[0::2]         #second character\n",
    "print(opt)\n",
    "\n",
    "my_string=\"Sunday\"\n",
    "three=my_string[0:3]         #first three\n",
    "print(three)\n",
    "\n",
    "my_string=\"Thrusday\"\n",
    "reverse=my_string[::-1]       #reverse\n",
    "print(reverse)"
   ]
  },
  {
   "cell_type": "markdown",
   "id": "8b210cf0",
   "metadata": {},
   "source": [
    "### Difference between list and Set in Python"
   ]
  },
  {
   "cell_type": "markdown",
   "id": "14e6eaf7",
   "metadata": {},
   "source": [
    " **1.Ordering:**\n",
    "    \n",
    "* **List**:List maintains the order of elements.\n",
    "* **Set:** Set does not gaurantee any specific order of an element\n",
    " \n",
    "    \n",
    " **2.Duplicates:**\n",
    "    \n",
    "* **List:** Duplicates are allowed.\n",
    "* **Set:** Duplicates are not allowed\n",
    "\n",
    "    \n",
    " **3.Mutability:**\n",
    "    \n",
    "* **List:** Mutable,can be modified after creation.\n",
    "* **Set:** Mutable,can add or remove the elements but,set itself is Immutable\n",
    "\n",
    "    \n",
    " **4.Syntax:**\n",
    "    \n",
    "* **List:** enclosed into [] square brackets\n",
    "* **Set:** enclosed into {} pair if curly braces and set() constructor\n",
    "\n",
    "    \n",
    " **5.Indexing:**\n",
    "    \n",
    "* **List:** Supports indexing and slicing\n",
    "* **Set:** Does not support slicing"
   ]
  },
  {
   "cell_type": "code",
   "execution_count": 19,
   "id": "ca383a82",
   "metadata": {},
   "outputs": [
    {
     "name": "stdout",
     "output_type": "stream",
     "text": [
      "Ordering: [1, 2, 3, 4, 5]\n",
      "Ordering {1, 2, 3, 4, 5}\n",
      "[99, 2, 3, 4, 5]\n",
      "{1, 2, 3, 4, 5, 99}\n",
      "{1, 2, 3, 5, 99}\n"
     ]
    }
   ],
   "source": [
    "# In case of Ordering and Duplicates\n",
    "my_list=[1,2,3,4,5]\n",
    "print(\"Ordering:\",my_list)\n",
    "\n",
    "my_set={1,2,3,4,5,4,3}\n",
    "print(\"Ordering\",my_set)\n",
    "\n",
    "my_list[0]=99\n",
    "print(my_list)\n",
    "\n",
    "#my_set[0]=88\n",
    "#print(my_set)\n",
    "\n",
    "#adding\n",
    "my_set.add(99)\n",
    "print(my_set)\n",
    "\n",
    "#removing\n",
    "my_set.remove(4)\n",
    "print(my_set)"
   ]
  },
  {
   "cell_type": "markdown",
   "id": "6dc75adf",
   "metadata": {},
   "source": [
    "### len() function:"
   ]
  },
  {
   "cell_type": "markdown",
   "id": "3ca864c1",
   "metadata": {},
   "source": [
    "* In Python len() function is used to determine the lenght of the sequence such as list,tuple,string etc"
   ]
  },
  {
   "cell_type": "code",
   "execution_count": 2,
   "id": "d57d45e9",
   "metadata": {},
   "outputs": [
    {
     "name": "stdout",
     "output_type": "stream",
     "text": [
      "The length of my list is 6\n",
      "The length of my string is 19\n"
     ]
    }
   ],
   "source": [
    "my_list=[0,6,4,8,5,2]\n",
    "print(\"The length of my list is\",len(my_list))\n",
    "\n",
    "my_string=\"Good Morining India\"\n",
    "print(\"The length of my string is\",len(my_string))"
   ]
  },
  {
   "cell_type": "markdown",
   "id": "01401726",
   "metadata": {},
   "source": [
    "### None data type:"
   ]
  },
  {
   "cell_type": "markdown",
   "id": "e9df3706",
   "metadata": {},
   "source": [
    "* None is a special constant which represents null value or absence of any value\n",
    "* If the function or variable does nit return anything then it None is used"
   ]
  },
  {
   "cell_type": "code",
   "execution_count": 2,
   "id": "ad760e52",
   "metadata": {},
   "outputs": [
    {
     "name": "stdout",
     "output_type": "stream",
     "text": [
      "This is the demonstration for None function\n",
      "None Data type\n"
     ]
    }
   ],
   "source": [
    "def demo():\n",
    "    print(\"This is the demonstration for None function\")\n",
    "a=demo()\n",
    "if a is None:\n",
    "    print(\"None Data type\")\n",
    "else:\n",
    "    print(\"Does not returns any value\")"
   ]
  },
  {
   "cell_type": "markdown",
   "id": "a97085f2",
   "metadata": {},
   "source": [
    "### Bytes and Bytesarray Data types in Python:"
   ]
  },
  {
   "cell_type": "markdown",
   "id": "ca391208",
   "metadata": {},
   "source": [
    "* bytes() is used to return bytes object which cannot be modified.\n",
    "* bytearray() can convert bytearray object which can be modified."
   ]
  },
  {
   "cell_type": "code",
   "execution_count": 5,
   "id": "51e9da70",
   "metadata": {},
   "outputs": [
    {
     "name": "stdout",
     "output_type": "stream",
     "text": [
      "Bytes for a is b'\\x00\\x00\\x00\\x00\\x00\\x00\\x00\\x00\\x00'\n",
      "Bytearray for b is bytearray(b'\\x00\\x00\\x00\\x00\\x00\\x00\\x00\\x00\\x00')\n"
     ]
    }
   ],
   "source": [
    "a=bytes(9)\n",
    "print(\"Bytes for a is\",a)\n",
    "\n",
    "b=bytearray(9)\n",
    "print(\"Bytearray for b is\",b)"
   ]
  },
  {
   "cell_type": "markdown",
   "id": "84149595",
   "metadata": {},
   "source": [
    "### Frozenset Datatype in Python:"
   ]
  },
  {
   "cell_type": "markdown",
   "id": "eb9b6f01",
   "metadata": {},
   "source": [
    "* Frozenset is an immutable set which cannot be changed after creation"
   ]
  },
  {
   "cell_type": "code",
   "execution_count": 4,
   "id": "428c2130",
   "metadata": {},
   "outputs": [
    {
     "name": "stdout",
     "output_type": "stream",
     "text": [
      "My set is frozen frozenset({1, 2, 3, 4, 5})\n",
      "Error 'frozenset' object has no attribute 'add'\n"
     ]
    }
   ],
   "source": [
    "my_set=frozenset([1,2,3,4,5])\n",
    "print(\"My set is frozen\",my_set)\n",
    "\n",
    "try:\n",
    "    my_set.add(6)\n",
    "except AttributeError as e:\n",
    "    print(\"Error\",e)"
   ]
  },
  {
   "cell_type": "markdown",
   "id": "92c54326",
   "metadata": {},
   "source": [
    "### True,False and None:"
   ]
  },
  {
   "cell_type": "code",
   "execution_count": 6,
   "id": "eff37b28",
   "metadata": {},
   "outputs": [
    {
     "name": "stdout",
     "output_type": "stream",
     "text": [
      "Can an identifier be a function name? True\n",
      "Can a Keyword be an identifier? False\n",
      "None datatype\n"
     ]
    }
   ],
   "source": [
    "identifier_canbe_funcname=True\n",
    "keyword_canbe_identifier=False\n",
    "\n",
    "print(\"Can an identifier be a function name?\",identifier_canbe_funcname)\n",
    "print(\"Can a Keyword be an identifier?\",keyword_canbe_identifier)\n",
    "\n",
    "num=None\n",
    "if num is None:\n",
    "    print(\"None datatype\")"
   ]
  },
  {
   "cell_type": "code",
   "execution_count": null,
   "id": "97bdf4b2",
   "metadata": {},
   "outputs": [],
   "source": []
  }
 ],
 "metadata": {
  "kernelspec": {
   "display_name": "Python 3 (ipykernel)",
   "language": "python",
   "name": "python3"
  },
  "language_info": {
   "codemirror_mode": {
    "name": "ipython",
    "version": 3
   },
   "file_extension": ".py",
   "mimetype": "text/x-python",
   "name": "python",
   "nbconvert_exporter": "python",
   "pygments_lexer": "ipython3",
   "version": "3.11.5"
  }
 },
 "nbformat": 4,
 "nbformat_minor": 5
}
